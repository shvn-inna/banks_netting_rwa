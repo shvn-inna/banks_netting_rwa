{
  "cells": [
    {
      "cell_type": "markdown",
      "id": "52547de8",
      "metadata": {
        "id": "52547de8"
      },
      "source": [
        "##Предварительная обработка"
      ]
    },
    {
      "cell_type": "code",
      "execution_count": 336,
      "id": "1887dedc",
      "metadata": {
        "id": "1887dedc"
      },
      "outputs": [],
      "source": [
        "import pandas as pd\n",
        "import numpy as np\n",
        "\n",
        "from collections import Counter\n",
        "\n",
        "import matplotlib.pyplot as plt\n",
        "import matplotlib.cm as cm"
      ]
    },
    {
      "cell_type": "code",
      "execution_count": 337,
      "id": "0c69ecd9",
      "metadata": {
        "colab": {
          "base_uri": "https://localhost:8080/",
          "height": 423
        },
        "id": "0c69ecd9",
        "outputId": "b54803f2-4062-400c-9112-42b5f3f29595"
      },
      "outputs": [
        {
          "output_type": "execute_result",
          "data": {
            "text/plain": [
              "            asset    liability    mat_date  days_mat    rate  answ  group\n",
              "0             0.0   33000000.0  04.06.2018        74  2.0246   NaN    1.0\n",
              "1     100000000.0          0.0  11.06.2018        81  2.0714   NaN    1.0\n",
              "2     550000000.0          0.0  07.05.2018        46  1.7935   NaN    2.0\n",
              "3             0.0    5000000.0  11.06.2018        81  2.0714   NaN    1.0\n",
              "4             0.0    5000000.0  11.06.2018        81  2.0714   NaN    1.0\n",
              "...           ...          ...         ...       ...     ...   ...    ...\n",
              "2170    3500000.0          0.0  13.06.2018        83  2.0888   NaN    NaN\n",
              "2171          0.0   46500000.0  13.06.2018        83  2.0888   NaN    NaN\n",
              "2172   29300000.0          0.0  13.06.2018        83  2.0888   NaN    NaN\n",
              "2173          0.0  121500000.0  13.06.2018        83  2.0888   NaN    NaN\n",
              "2174          0.0   47300000.0  13.06.2018        83  2.0888   NaN    NaN\n",
              "\n",
              "[2175 rows x 7 columns]"
            ],
            "text/html": [
              "\n",
              "  <div id=\"df-1ea31ebc-b5d3-44cd-85d6-0deeb94ac4b4\" class=\"colab-df-container\">\n",
              "    <div>\n",
              "<style scoped>\n",
              "    .dataframe tbody tr th:only-of-type {\n",
              "        vertical-align: middle;\n",
              "    }\n",
              "\n",
              "    .dataframe tbody tr th {\n",
              "        vertical-align: top;\n",
              "    }\n",
              "\n",
              "    .dataframe thead th {\n",
              "        text-align: right;\n",
              "    }\n",
              "</style>\n",
              "<table border=\"1\" class=\"dataframe\">\n",
              "  <thead>\n",
              "    <tr style=\"text-align: right;\">\n",
              "      <th></th>\n",
              "      <th>asset</th>\n",
              "      <th>liability</th>\n",
              "      <th>mat_date</th>\n",
              "      <th>days_mat</th>\n",
              "      <th>rate</th>\n",
              "      <th>answ</th>\n",
              "      <th>group</th>\n",
              "    </tr>\n",
              "  </thead>\n",
              "  <tbody>\n",
              "    <tr>\n",
              "      <th>0</th>\n",
              "      <td>0.0</td>\n",
              "      <td>33000000.0</td>\n",
              "      <td>04.06.2018</td>\n",
              "      <td>74</td>\n",
              "      <td>2.0246</td>\n",
              "      <td>NaN</td>\n",
              "      <td>1.0</td>\n",
              "    </tr>\n",
              "    <tr>\n",
              "      <th>1</th>\n",
              "      <td>100000000.0</td>\n",
              "      <td>0.0</td>\n",
              "      <td>11.06.2018</td>\n",
              "      <td>81</td>\n",
              "      <td>2.0714</td>\n",
              "      <td>NaN</td>\n",
              "      <td>1.0</td>\n",
              "    </tr>\n",
              "    <tr>\n",
              "      <th>2</th>\n",
              "      <td>550000000.0</td>\n",
              "      <td>0.0</td>\n",
              "      <td>07.05.2018</td>\n",
              "      <td>46</td>\n",
              "      <td>1.7935</td>\n",
              "      <td>NaN</td>\n",
              "      <td>2.0</td>\n",
              "    </tr>\n",
              "    <tr>\n",
              "      <th>3</th>\n",
              "      <td>0.0</td>\n",
              "      <td>5000000.0</td>\n",
              "      <td>11.06.2018</td>\n",
              "      <td>81</td>\n",
              "      <td>2.0714</td>\n",
              "      <td>NaN</td>\n",
              "      <td>1.0</td>\n",
              "    </tr>\n",
              "    <tr>\n",
              "      <th>4</th>\n",
              "      <td>0.0</td>\n",
              "      <td>5000000.0</td>\n",
              "      <td>11.06.2018</td>\n",
              "      <td>81</td>\n",
              "      <td>2.0714</td>\n",
              "      <td>NaN</td>\n",
              "      <td>1.0</td>\n",
              "    </tr>\n",
              "    <tr>\n",
              "      <th>...</th>\n",
              "      <td>...</td>\n",
              "      <td>...</td>\n",
              "      <td>...</td>\n",
              "      <td>...</td>\n",
              "      <td>...</td>\n",
              "      <td>...</td>\n",
              "      <td>...</td>\n",
              "    </tr>\n",
              "    <tr>\n",
              "      <th>2170</th>\n",
              "      <td>3500000.0</td>\n",
              "      <td>0.0</td>\n",
              "      <td>13.06.2018</td>\n",
              "      <td>83</td>\n",
              "      <td>2.0888</td>\n",
              "      <td>NaN</td>\n",
              "      <td>NaN</td>\n",
              "    </tr>\n",
              "    <tr>\n",
              "      <th>2171</th>\n",
              "      <td>0.0</td>\n",
              "      <td>46500000.0</td>\n",
              "      <td>13.06.2018</td>\n",
              "      <td>83</td>\n",
              "      <td>2.0888</td>\n",
              "      <td>NaN</td>\n",
              "      <td>NaN</td>\n",
              "    </tr>\n",
              "    <tr>\n",
              "      <th>2172</th>\n",
              "      <td>29300000.0</td>\n",
              "      <td>0.0</td>\n",
              "      <td>13.06.2018</td>\n",
              "      <td>83</td>\n",
              "      <td>2.0888</td>\n",
              "      <td>NaN</td>\n",
              "      <td>NaN</td>\n",
              "    </tr>\n",
              "    <tr>\n",
              "      <th>2173</th>\n",
              "      <td>0.0</td>\n",
              "      <td>121500000.0</td>\n",
              "      <td>13.06.2018</td>\n",
              "      <td>83</td>\n",
              "      <td>2.0888</td>\n",
              "      <td>NaN</td>\n",
              "      <td>NaN</td>\n",
              "    </tr>\n",
              "    <tr>\n",
              "      <th>2174</th>\n",
              "      <td>0.0</td>\n",
              "      <td>47300000.0</td>\n",
              "      <td>13.06.2018</td>\n",
              "      <td>83</td>\n",
              "      <td>2.0888</td>\n",
              "      <td>NaN</td>\n",
              "      <td>NaN</td>\n",
              "    </tr>\n",
              "  </tbody>\n",
              "</table>\n",
              "<p>2175 rows × 7 columns</p>\n",
              "</div>\n",
              "    <div class=\"colab-df-buttons\">\n",
              "\n",
              "  <div class=\"colab-df-container\">\n",
              "    <button class=\"colab-df-convert\" onclick=\"convertToInteractive('df-1ea31ebc-b5d3-44cd-85d6-0deeb94ac4b4')\"\n",
              "            title=\"Convert this dataframe to an interactive table.\"\n",
              "            style=\"display:none;\">\n",
              "\n",
              "  <svg xmlns=\"http://www.w3.org/2000/svg\" height=\"24px\" viewBox=\"0 -960 960 960\">\n",
              "    <path d=\"M120-120v-720h720v720H120Zm60-500h600v-160H180v160Zm220 220h160v-160H400v160Zm0 220h160v-160H400v160ZM180-400h160v-160H180v160Zm440 0h160v-160H620v160ZM180-180h160v-160H180v160Zm440 0h160v-160H620v160Z\"/>\n",
              "  </svg>\n",
              "    </button>\n",
              "\n",
              "  <style>\n",
              "    .colab-df-container {\n",
              "      display:flex;\n",
              "      gap: 12px;\n",
              "    }\n",
              "\n",
              "    .colab-df-convert {\n",
              "      background-color: #E8F0FE;\n",
              "      border: none;\n",
              "      border-radius: 50%;\n",
              "      cursor: pointer;\n",
              "      display: none;\n",
              "      fill: #1967D2;\n",
              "      height: 32px;\n",
              "      padding: 0 0 0 0;\n",
              "      width: 32px;\n",
              "    }\n",
              "\n",
              "    .colab-df-convert:hover {\n",
              "      background-color: #E2EBFA;\n",
              "      box-shadow: 0px 1px 2px rgba(60, 64, 67, 0.3), 0px 1px 3px 1px rgba(60, 64, 67, 0.15);\n",
              "      fill: #174EA6;\n",
              "    }\n",
              "\n",
              "    .colab-df-buttons div {\n",
              "      margin-bottom: 4px;\n",
              "    }\n",
              "\n",
              "    [theme=dark] .colab-df-convert {\n",
              "      background-color: #3B4455;\n",
              "      fill: #D2E3FC;\n",
              "    }\n",
              "\n",
              "    [theme=dark] .colab-df-convert:hover {\n",
              "      background-color: #434B5C;\n",
              "      box-shadow: 0px 1px 3px 1px rgba(0, 0, 0, 0.15);\n",
              "      filter: drop-shadow(0px 1px 2px rgba(0, 0, 0, 0.3));\n",
              "      fill: #FFFFFF;\n",
              "    }\n",
              "  </style>\n",
              "\n",
              "    <script>\n",
              "      const buttonEl =\n",
              "        document.querySelector('#df-1ea31ebc-b5d3-44cd-85d6-0deeb94ac4b4 button.colab-df-convert');\n",
              "      buttonEl.style.display =\n",
              "        google.colab.kernel.accessAllowed ? 'block' : 'none';\n",
              "\n",
              "      async function convertToInteractive(key) {\n",
              "        const element = document.querySelector('#df-1ea31ebc-b5d3-44cd-85d6-0deeb94ac4b4');\n",
              "        const dataTable =\n",
              "          await google.colab.kernel.invokeFunction('convertToInteractive',\n",
              "                                                    [key], {});\n",
              "        if (!dataTable) return;\n",
              "\n",
              "        const docLinkHtml = 'Like what you see? Visit the ' +\n",
              "          '<a target=\"_blank\" href=https://colab.research.google.com/notebooks/data_table.ipynb>data table notebook</a>'\n",
              "          + ' to learn more about interactive tables.';\n",
              "        element.innerHTML = '';\n",
              "        dataTable['output_type'] = 'display_data';\n",
              "        await google.colab.output.renderOutput(dataTable, element);\n",
              "        const docLink = document.createElement('div');\n",
              "        docLink.innerHTML = docLinkHtml;\n",
              "        element.appendChild(docLink);\n",
              "      }\n",
              "    </script>\n",
              "  </div>\n",
              "\n",
              "\n",
              "    <div id=\"df-28a27823-b568-4b27-8039-db478e399855\">\n",
              "      <button class=\"colab-df-quickchart\" onclick=\"quickchart('df-28a27823-b568-4b27-8039-db478e399855')\"\n",
              "                title=\"Suggest charts\"\n",
              "                style=\"display:none;\">\n",
              "\n",
              "<svg xmlns=\"http://www.w3.org/2000/svg\" height=\"24px\"viewBox=\"0 0 24 24\"\n",
              "     width=\"24px\">\n",
              "    <g>\n",
              "        <path d=\"M19 3H5c-1.1 0-2 .9-2 2v14c0 1.1.9 2 2 2h14c1.1 0 2-.9 2-2V5c0-1.1-.9-2-2-2zM9 17H7v-7h2v7zm4 0h-2V7h2v10zm4 0h-2v-4h2v4z\"/>\n",
              "    </g>\n",
              "</svg>\n",
              "      </button>\n",
              "\n",
              "<style>\n",
              "  .colab-df-quickchart {\n",
              "      --bg-color: #E8F0FE;\n",
              "      --fill-color: #1967D2;\n",
              "      --hover-bg-color: #E2EBFA;\n",
              "      --hover-fill-color: #174EA6;\n",
              "      --disabled-fill-color: #AAA;\n",
              "      --disabled-bg-color: #DDD;\n",
              "  }\n",
              "\n",
              "  [theme=dark] .colab-df-quickchart {\n",
              "      --bg-color: #3B4455;\n",
              "      --fill-color: #D2E3FC;\n",
              "      --hover-bg-color: #434B5C;\n",
              "      --hover-fill-color: #FFFFFF;\n",
              "      --disabled-bg-color: #3B4455;\n",
              "      --disabled-fill-color: #666;\n",
              "  }\n",
              "\n",
              "  .colab-df-quickchart {\n",
              "    background-color: var(--bg-color);\n",
              "    border: none;\n",
              "    border-radius: 50%;\n",
              "    cursor: pointer;\n",
              "    display: none;\n",
              "    fill: var(--fill-color);\n",
              "    height: 32px;\n",
              "    padding: 0;\n",
              "    width: 32px;\n",
              "  }\n",
              "\n",
              "  .colab-df-quickchart:hover {\n",
              "    background-color: var(--hover-bg-color);\n",
              "    box-shadow: 0 1px 2px rgba(60, 64, 67, 0.3), 0 1px 3px 1px rgba(60, 64, 67, 0.15);\n",
              "    fill: var(--button-hover-fill-color);\n",
              "  }\n",
              "\n",
              "  .colab-df-quickchart-complete:disabled,\n",
              "  .colab-df-quickchart-complete:disabled:hover {\n",
              "    background-color: var(--disabled-bg-color);\n",
              "    fill: var(--disabled-fill-color);\n",
              "    box-shadow: none;\n",
              "  }\n",
              "\n",
              "  .colab-df-spinner {\n",
              "    border: 2px solid var(--fill-color);\n",
              "    border-color: transparent;\n",
              "    border-bottom-color: var(--fill-color);\n",
              "    animation:\n",
              "      spin 1s steps(1) infinite;\n",
              "  }\n",
              "\n",
              "  @keyframes spin {\n",
              "    0% {\n",
              "      border-color: transparent;\n",
              "      border-bottom-color: var(--fill-color);\n",
              "      border-left-color: var(--fill-color);\n",
              "    }\n",
              "    20% {\n",
              "      border-color: transparent;\n",
              "      border-left-color: var(--fill-color);\n",
              "      border-top-color: var(--fill-color);\n",
              "    }\n",
              "    30% {\n",
              "      border-color: transparent;\n",
              "      border-left-color: var(--fill-color);\n",
              "      border-top-color: var(--fill-color);\n",
              "      border-right-color: var(--fill-color);\n",
              "    }\n",
              "    40% {\n",
              "      border-color: transparent;\n",
              "      border-right-color: var(--fill-color);\n",
              "      border-top-color: var(--fill-color);\n",
              "    }\n",
              "    60% {\n",
              "      border-color: transparent;\n",
              "      border-right-color: var(--fill-color);\n",
              "    }\n",
              "    80% {\n",
              "      border-color: transparent;\n",
              "      border-right-color: var(--fill-color);\n",
              "      border-bottom-color: var(--fill-color);\n",
              "    }\n",
              "    90% {\n",
              "      border-color: transparent;\n",
              "      border-bottom-color: var(--fill-color);\n",
              "    }\n",
              "  }\n",
              "</style>\n",
              "\n",
              "      <script>\n",
              "        async function quickchart(key) {\n",
              "          const quickchartButtonEl =\n",
              "            document.querySelector('#' + key + ' button');\n",
              "          quickchartButtonEl.disabled = true;  // To prevent multiple clicks.\n",
              "          quickchartButtonEl.classList.add('colab-df-spinner');\n",
              "          try {\n",
              "            const charts = await google.colab.kernel.invokeFunction(\n",
              "                'suggestCharts', [key], {});\n",
              "          } catch (error) {\n",
              "            console.error('Error during call to suggestCharts:', error);\n",
              "          }\n",
              "          quickchartButtonEl.classList.remove('colab-df-spinner');\n",
              "          quickchartButtonEl.classList.add('colab-df-quickchart-complete');\n",
              "        }\n",
              "        (() => {\n",
              "          let quickchartButtonEl =\n",
              "            document.querySelector('#df-28a27823-b568-4b27-8039-db478e399855 button');\n",
              "          quickchartButtonEl.style.display =\n",
              "            google.colab.kernel.accessAllowed ? 'block' : 'none';\n",
              "        })();\n",
              "      </script>\n",
              "    </div>\n",
              "    </div>\n",
              "  </div>\n"
            ],
            "application/vnd.google.colaboratory.intrinsic+json": {
              "type": "dataframe",
              "variable_name": "df",
              "summary": "{\n  \"name\": \"df\",\n  \"rows\": 2175,\n  \"fields\": [\n    {\n      \"column\": \"asset\",\n      \"properties\": {\n        \"dtype\": \"number\",\n        \"std\": 38357904.713111274,\n        \"min\": 0.0,\n        \"max\": 550000000.0,\n        \"num_unique_values\": 358,\n        \"samples\": [\n          19200000.0,\n          12500000.0,\n          106300000.0\n        ],\n        \"semantic_type\": \"\",\n        \"description\": \"\"\n      }\n    },\n    {\n      \"column\": \"liability\",\n      \"properties\": {\n        \"dtype\": \"number\",\n        \"std\": 37537585.47808363,\n        \"min\": 0.0,\n        \"max\": 500000000.0,\n        \"num_unique_values\": 365,\n        \"samples\": [\n          36000000.0,\n          79300000.0,\n          5900000.0\n        ],\n        \"semantic_type\": \"\",\n        \"description\": \"\"\n      }\n    },\n    {\n      \"column\": \"mat_date\",\n      \"properties\": {\n        \"dtype\": \"category\",\n        \"num_unique_values\": 48,\n        \"samples\": [\n          \"08.05.2018\",\n          \"26.04.2018\",\n          \"30.05.2018\"\n        ],\n        \"semantic_type\": \"\",\n        \"description\": \"\"\n      }\n    },\n    {\n      \"column\": \"days_mat\",\n      \"properties\": {\n        \"dtype\": \"number\",\n        \"std\": 18,\n        \"min\": 32,\n        \"max\": 92,\n        \"num_unique_values\": 48,\n        \"samples\": [\n          47,\n          35,\n          69\n        ],\n        \"semantic_type\": \"\",\n        \"description\": \"\"\n      }\n    },\n    {\n      \"column\": \"rate\",\n      \"properties\": {\n        \"dtype\": \"number\",\n        \"std\": 0.3407056807607318,\n        \"min\": 0.8495,\n        \"max\": 9.125,\n        \"num_unique_values\": 89,\n        \"samples\": [\n          1.9563,\n          3.1625,\n          1.7778\n        ],\n        \"semantic_type\": \"\",\n        \"description\": \"\"\n      }\n    },\n    {\n      \"column\": \"answ\",\n      \"properties\": {\n        \"dtype\": \"number\",\n        \"std\": null,\n        \"min\": null,\n        \"max\": null,\n        \"num_unique_values\": 0,\n        \"samples\": [],\n        \"semantic_type\": \"\",\n        \"description\": \"\"\n      }\n    },\n    {\n      \"column\": \"group\",\n      \"properties\": {\n        \"dtype\": \"number\",\n        \"std\": 1.0500626547722611,\n        \"min\": 1.0,\n        \"max\": 5.0,\n        \"num_unique_values\": 5,\n        \"samples\": [],\n        \"semantic_type\": \"\",\n        \"description\": \"\"\n      }\n    }\n  ]\n}"
            }
          },
          "metadata": {},
          "execution_count": 337
        }
      ],
      "source": [
        "with open(\"Банк_3мес_данные.csv\", encoding=\"Windows-1251\") as data:\n",
        "    df = pd.read_csv(data, sep=\";\")\n",
        "df = df.rename(columns={\"Кредит (актив)\":\"asset\",  #переименовываем для удобства\n",
        "                        \"Вклад (пассив)\":\"liability\",\n",
        "                        \"Дата погашения\":\"mat_date\",\n",
        "                        \"Срок погашения, дней\":\"days_mat\",\n",
        "                        \"Ставка, %\":\"rate\",\n",
        "                        \"[ОТВЕТ] Номер группы\":\"answ\",\n",
        "                        \"Пример группировки (для первых 20 сделок)\":\"group\"\n",
        "                        })\n",
        "df = df.drop(\"Unnamed: 7\", axis=1)\n",
        "df"
      ]
    },
    {
      "cell_type": "code",
      "execution_count": 338,
      "id": "147ba9fc",
      "metadata": {
        "id": "147ba9fc"
      },
      "outputs": [],
      "source": [
        "df_ex = df.sort_values(\"group\").drop(\"answ\", axis=1).head(20) #кусочек датафрейма для проверки"
      ]
    },
    {
      "cell_type": "markdown",
      "id": "13227e2e",
      "metadata": {
        "id": "13227e2e"
      },
      "source": [
        "##Разбираемся с формулой"
      ]
    },
    {
      "cell_type": "code",
      "execution_count": 339,
      "id": "450bc4c3",
      "metadata": {
        "id": "450bc4c3"
      },
      "outputs": [],
      "source": [
        "def calculate_rwa_for_groups(data, group=\"group\"): #принимает датафрейм\n",
        "\n",
        "    total_assets, total_liabs = 0, 0\n",
        "\n",
        "    for g in data[group].unique():\n",
        "            gross, net = 0.1, 0.4\n",
        "            if g == -1: #этот будут несгруппированные активы\n",
        "                total_assets += sum(data[data[group] == g][\"asset\"])\n",
        "                total_liabs += sum(data[data[group] == g][\"liability\"])\n",
        "            else:\n",
        "                residue = sum(data[data[group] == g][\"asset\"]) - sum(data[data[group] == g][\"liability\"])\n",
        "\n",
        "                if residue >= 0:\n",
        "                    total_assets += residue\n",
        "                if residue < 0:\n",
        "                    total_liabs += abs(residue)\n",
        "\n",
        "    rwa = (total_assets + total_liabs)*gross + abs(total_assets - total_liabs)*net\n",
        "\n",
        "    #RWA = ((∑ Актив + ∑ Пассив)* 𝑤_𝑔𝑟𝑜𝑠𝑠 + |∑ Актив − ∑ Пассив| * 𝑤_𝑛𝑒𝑡\n",
        "    #получается нужно минимизировать total assets и total liabilities\n",
        "    #RWA=383300000 correct result for df_ex\n",
        "\n",
        "    return rwa\n"
      ]
    },
    {
      "cell_type": "code",
      "execution_count": 340,
      "id": "6282d8a5",
      "metadata": {
        "colab": {
          "base_uri": "https://localhost:8080/"
        },
        "id": "6282d8a5",
        "outputId": "c18e954a-931d-4e00-c4c8-de5e1c218eb9"
      },
      "outputs": [
        {
          "output_type": "execute_result",
          "data": {
            "text/plain": [
              "383300000.0"
            ]
          },
          "metadata": {},
          "execution_count": 340
        }
      ],
      "source": [
        "calculate_rwa_for_groups(df_ex) #проверяем что функция корректна"
      ]
    },
    {
      "cell_type": "markdown",
      "id": "8fc18bcf",
      "metadata": {
        "id": "8fc18bcf"
      },
      "source": [
        "Посмотрим возможные RWA\n",
        "\n",
        "1) если бы все активы и пассивы неттировались(то есть были бы объединены в одну группу неттирования)\n",
        "\n",
        "2) без неттирования\n",
        "\n",
        "3) неттирование только одинаковых по дате и ставке строк\n",
        "\n",
        " это даст представление о минимальном и максимальном возможных числах"
      ]
    },
    {
      "cell_type": "code",
      "execution_count": 341,
      "id": "e590bbc7",
      "metadata": {
        "colab": {
          "base_uri": "https://localhost:8080/"
        },
        "id": "e590bbc7",
        "outputId": "7895c4af-43f6-43b8-a9af-148ed0fdc320"
      },
      "outputs": [
        {
          "output_type": "stream",
          "name": "stdout",
          "text": [
            "RWA, если бы все активы и пассивы неттировались: 1016236493.5900003\n"
          ]
        }
      ],
      "source": [
        "df[\"zero_group\"] = 0\n",
        "print(\"RWA, если бы все активы и пассивы неттировались:\", calculate_rwa_for_groups(df, group=\"zero_group\"))\n",
        "df = df.drop(\"zero_group\",axis=1)"
      ]
    },
    {
      "cell_type": "code",
      "source": [
        "df[\"zero_group\"] = -1\n",
        "print(\"RWA, если бы все активы и пассивы не неттировались:\", calculate_rwa_for_groups(df, group=\"zero_group\"))\n",
        "df = df.drop(\"zero_group\",axis=1)"
      ],
      "metadata": {
        "colab": {
          "base_uri": "https://localhost:8080/"
        },
        "id": "vTLQ6tg397ag",
        "outputId": "7e5097b9-7b05-49a5-dfbf-25ed17fbc4b2"
      },
      "id": "vTLQ6tg397ag",
      "execution_count": 342,
      "outputs": [
        {
          "output_type": "stream",
          "name": "stdout",
          "text": [
            "RWA, если бы все активы и пассивы не неттировались: 8678152412.522001\n"
          ]
        }
      ]
    },
    {
      "cell_type": "code",
      "source": [
        "def group_by_rate_and_days(data):\n",
        "    data['new'] = data.groupby(['rate', 'days_mat']).ngroup()\n",
        "    return data\n",
        "\n",
        "print(\"RWA, если бы неттировались только активы и пассивы с одинаковой ставкой и сроком:\", calculate_rwa_for_groups(df2, group=\"new\"))"
      ],
      "metadata": {
        "colab": {
          "base_uri": "https://localhost:8080/"
        },
        "id": "g4uehgfJbinR",
        "outputId": "1b691560-28e8-4db8-cd2a-81ade87f2c9e"
      },
      "id": "g4uehgfJbinR",
      "execution_count": 343,
      "outputs": [
        {
          "output_type": "stream",
          "name": "stdout",
          "text": [
            "RWA, если бы неттировались только активы и пассивы с одинаковой ставкой и сроком: 2012448514.8140004\n"
          ]
        }
      ]
    },
    {
      "cell_type": "markdown",
      "source": [
        "На всякий случай создадим функцию проверки, чтобы потом смотреть, соответствуют ли условиям полученные группы неттирования"
      ],
      "metadata": {
        "id": "AmyKOUpWAADY"
      },
      "id": "AmyKOUpWAADY"
    },
    {
      "cell_type": "code",
      "source": [
        "def netting_checker(data, group=\"group\"):\n",
        "\n",
        "  for g in data[group].unique():\n",
        "      flag = ''\n",
        "      net_group = data[data[group] == g]\n",
        "      num = (data[group] == g).sum()\n",
        "      days_range = net_group[\"days_mat\"].max() - net_group[\"days_mat\"].min()\n",
        "      rate_range = round(net_group[\"rate\"].max() - net_group[\"rate\"].min(), 4)\n",
        "      total_group = data[data[group] == g][\"asset\"].sum() - data[data[group] == g][\"asset\"].sum()\n",
        "\n",
        "      if days_range > 30 or rate_range > 0.15:\n",
        "        flag = 'there is a problem'\n",
        "\n",
        "      if g == -1:\n",
        "        print(f\"group {int(g)}: {num}, days_range={days_range}, rate_range={rate_range}\", \"not groupped\")\n",
        "      else:\n",
        "        print(f\"group {int(g)}: {num}, days_range={days_range}, rate_range={rate_range}\", flag)"
      ],
      "metadata": {
        "id": "A_87JUTDAMUI"
      },
      "id": "A_87JUTDAMUI",
      "execution_count": 344,
      "outputs": []
    },
    {
      "cell_type": "code",
      "source": [
        "netting_checker(df_ex)"
      ],
      "metadata": {
        "colab": {
          "base_uri": "https://localhost:8080/"
        },
        "id": "IdGgdEQuAjj6",
        "outputId": "c3bf6349-9b35-4fa9-f143-ff8f42e826be"
      },
      "id": "IdGgdEQuAjj6",
      "execution_count": 345,
      "outputs": [
        {
          "output_type": "stream",
          "name": "stdout",
          "text": [
            "group 1: 7, days_range=10, rate_range=0.0823 \n",
            "group 2: 10, days_range=20, rate_range=0.1246 \n",
            "group 3: 1, days_range=0, rate_range=0.0 \n",
            "group 4: 1, days_range=0, rate_range=0.0 \n",
            "group 5: 1, days_range=0, rate_range=0.0 \n"
          ]
        }
      ]
    },
    {
      "cell_type": "markdown",
      "id": "b5871b14",
      "metadata": {
        "id": "b5871b14"
      },
      "source": [
        "##Посмотрим на графики"
      ]
    },
    {
      "cell_type": "code",
      "execution_count": 346,
      "id": "d0a39342",
      "metadata": {
        "id": "d0a39342"
      },
      "outputs": [],
      "source": [
        "def scatter_of_groups(data, groupped = True, group=\"group\"):\n",
        "       plt.style.use('_mpl-gallery')\n",
        "\n",
        "       if groupped:\n",
        "              plt.figure(figsize=(5, 5))\n",
        "              for g in data[group].unique():\n",
        "                     x = data[data[group] == g][\"days_mat\"].to_numpy()\n",
        "                     y = data[data[group] == g][\"rate\"].to_numpy()\n",
        "\n",
        "                     cmap = cm.get_cmap('gist_rainbow')\n",
        "                     color = cmap(np.random.rand())\n",
        "\n",
        "                     plt.scatter(x, y, label= g, color = color)\n",
        "\n",
        "              plt.show()\n",
        "       else:\n",
        "              x = data[\"days_mat\"].to_numpy()\n",
        "              y = data[\"rate\"].to_numpy()\n",
        "\n",
        "              cmap = cm.get_cmap('gist_rainbow')\n",
        "              color = cmap(np.random.rand())\n",
        "\n",
        "              plt.figure(figsize=(5, 5))\n",
        "              plt.scatter(x, y, color = color)\n",
        "\n",
        "              plt.show()"
      ]
    },
    {
      "cell_type": "code",
      "execution_count": 347,
      "id": "4ba4d3c9",
      "metadata": {
        "colab": {
          "base_uri": "https://localhost:8080/",
          "height": 0
        },
        "id": "4ba4d3c9",
        "outputId": "dd1c7fac-e6b8-4de5-cde3-973abfd9a3d2"
      },
      "outputs": [
        {
          "output_type": "stream",
          "name": "stderr",
          "text": [
            "<ipython-input-346-eecdaf1f7457>:10: MatplotlibDeprecationWarning: The get_cmap function was deprecated in Matplotlib 3.7 and will be removed in 3.11. Use ``matplotlib.colormaps[name]`` or ``matplotlib.colormaps.get_cmap()`` or ``pyplot.get_cmap()`` instead.\n",
            "  cmap = cm.get_cmap('gist_rainbow')\n"
          ]
        },
        {
          "output_type": "display_data",
          "data": {
            "text/plain": [
              "<Figure size 500x500 with 1 Axes>"
            ],
            "image/png": "[encoded data removed]"
          },
          "metadata": {}
        }
      ],
      "source": [
        "scatter_of_groups(df_ex)"
      ]
    },
    {
      "cell_type": "code",
      "execution_count": 348,
      "id": "8d69d105",
      "metadata": {
        "colab": {
          "base_uri": "https://localhost:8080/",
          "height": 0
        },
        "id": "8d69d105",
        "outputId": "efe1b1c6-101a-4d8b-fc3e-2c1a331e8cd1"
      },
      "outputs": [
        {
          "output_type": "stream",
          "name": "stderr",
          "text": [
            "<ipython-input-346-eecdaf1f7457>:20: MatplotlibDeprecationWarning: The get_cmap function was deprecated in Matplotlib 3.7 and will be removed in 3.11. Use ``matplotlib.colormaps[name]`` or ``matplotlib.colormaps.get_cmap()`` or ``pyplot.get_cmap()`` instead.\n",
            "  cmap = cm.get_cmap('gist_rainbow')\n"
          ]
        },
        {
          "output_type": "display_data",
          "data": {
            "text/plain": [
              "<Figure size 500x500 with 1 Axes>"
            ],
            "image/png": "[encoded data removed]"
          },
          "metadata": {}
        }
      ],
      "source": [
        "scatter_of_groups(df, groupped=False)"
      ]
    },
    {
      "cell_type": "markdown",
      "id": "ea46c939",
      "metadata": {
        "id": "ea46c939"
      },
      "source": [
        "Наибольшую сложность для разбиения на группы представляет \"линия\"\n",
        "\n",
        "Сначала можно отсеить по расстоянию активы и пассивы, которые точно не группируются с другими(расстояние до ближайшего соседа больше 0.15 по y и больше 30 по x)\n",
        "но кажется это будет очень не эффективно, особенно если их много(квадратичная сложность обеспечена)"
      ]
    },
    {
      "cell_type": "markdown",
      "source": [
        "##Алгоритм"
      ],
      "metadata": {
        "id": "pK948l6u90PE"
      },
      "id": "pK948l6u90PE"
    },
    {
      "cell_type": "markdown",
      "source": [
        "1.   Сортируем датафрейм по ставке\n",
        "2.   Всем активам и пассивам до группировки присваиваем значение -1\n",
        "2.   Запускаем цикл, который идет по строкам последовательно, проверяя по условию разницы в днях и ставке, можно ли объединить группу со предыдущей\n",
        "  *   Если цикл находит две последовательно идущие строки, которые могут быть объединены, им присваивается номре группы\n",
        "  *  У строк, которые не получилось ни с чем объединить, остается группа -1\n",
        "\n",
        "\n",
        "\n",
        "3. При переходе на новую строку:\n",
        "\n",
        "  *   в случае, если объединение возможно, присваиваем строке ту же группу, что и у предыдущей\n",
        "  *   в случае, если объединение невозможно, присваиваем строке следующий номер группы, таким образом начиная новую группу с нее\n",
        "\n",
        "4. К полученной группировке строк применяем функцию подсчета RWA по группам\n"
      ],
      "metadata": {
        "id": "Y4w51_MjR3wr"
      },
      "id": "Y4w51_MjR3wr"
    },
    {
      "cell_type": "code",
      "source": [
        "def calculate_min_rwa(data, group=\"group\", sort=\"rate\"):\n",
        "    data = data.sort_values(sort).reset_index()\n",
        "    n = len(data)\n",
        "    data[group] = -1\n",
        "    group_id = 0\n",
        "    i = 0\n",
        "\n",
        "    while i < n:\n",
        "        #начинаем с инициализации группы в строке под номером i\n",
        "        start = i\n",
        "        end = i\n",
        "        min_rate = max_rate = data.at[i, 'rate']\n",
        "        min_day = max_day = data.at[i, 'days_mat']\n",
        "\n",
        "        #добавляем в текущую группу следующую строку, пока она соответствует условию\n",
        "        for j in range(i + 1, n):\n",
        "            new_rate = data.at[j, 'rate']\n",
        "            new_day = data.at[j, 'days_mat']\n",
        "\n",
        "            rate_diff = new_rate - min_rate\n",
        "            try_min_day = min(min_day, new_day)\n",
        "            try_max_day = max(max_day, new_day)\n",
        "\n",
        "            if ((try_max_day - try_min_day) > 30) or (rate_diff > 0.15):\n",
        "                break #прерываем цикл -> заканчиваем пополнение группы\n",
        "\n",
        "            end = j\n",
        "            max_rate = new_rate\n",
        "            min_day = try_min_day\n",
        "            max_day = try_max_day\n",
        "\n",
        "            '''\n",
        "            когда закончили пополнение группы,\n",
        "            меняем в столбце с группой в строках с индексами от start до end\n",
        "            значения на номер группы\n",
        "            '''\n",
        "        if end > start:\n",
        "            data.loc[start:end, group] = group_id\n",
        "            group_id += 1\n",
        "            i = end + 1\n",
        "        else:\n",
        "            i += 1\n",
        "\n",
        "    return calculate_rwa_for_groups(data, group=group), data"
      ],
      "metadata": {
        "id": "cya9XjbOw9pt"
      },
      "id": "cya9XjbOw9pt",
      "execution_count": 349,
      "outputs": []
    },
    {
      "cell_type": "markdown",
      "source": [
        "###Проверяем корректность работы алгоритма на тестовых данных:"
      ],
      "metadata": {
        "id": "UAZKJbQl7iex"
      },
      "id": "UAZKJbQl7iex"
    },
    {
      "cell_type": "code",
      "source": [
        "calculate_min_rwa(df_ex, group=\"label\")[0]"
      ],
      "metadata": {
        "colab": {
          "base_uri": "https://localhost:8080/"
        },
        "id": "Yvh_OhYx735g",
        "outputId": "64f8b6e5-7b4e-4ce6-ecd8-1a07bd5aa144"
      },
      "id": "Yvh_OhYx735g",
      "execution_count": 350,
      "outputs": [
        {
          "output_type": "execute_result",
          "data": {
            "text/plain": [
              "383300000.0"
            ]
          },
          "metadata": {},
          "execution_count": 350
        }
      ]
    },
    {
      "cell_type": "code",
      "source": [
        "netting_checker(calculate_min_rwa(df_ex, group=\"label\")[1], group=\"label\")"
      ],
      "metadata": {
        "colab": {
          "base_uri": "https://localhost:8080/"
        },
        "id": "2u43m3ybxAv3",
        "outputId": "08ea5ab5-af80-4e0c-a35a-50aa139be09d"
      },
      "id": "2u43m3ybxAv3",
      "execution_count": 351,
      "outputs": [
        {
          "output_type": "stream",
          "name": "stdout",
          "text": [
            "group -1: 3, days_range=51, rate_range=1.2435 not groupped\n",
            "group 0: 10, days_range=20, rate_range=0.1246 \n",
            "group 1: 7, days_range=10, rate_range=0.0823 \n"
          ]
        }
      ]
    },
    {
      "cell_type": "code",
      "source": [
        "df_ex_new = calculate_min_rwa(df_ex, group=\"label\")[1]"
      ],
      "metadata": {
        "id": "5kG_n8277sVq"
      },
      "id": "5kG_n8277sVq",
      "execution_count": 352,
      "outputs": []
    },
    {
      "cell_type": "code",
      "source": [
        "#сделаем разные названия всем аквтивам и пассивам, не попавшим в группы неттирования, как в примере\n",
        "def diff_ungroupped(data, group=\"group\"):\n",
        "  maxn = data[group].max()\n",
        "\n",
        "  new_group = maxn + 1\n",
        "\n",
        "  data.loc[data[group] == -1, group] = range(new_group, new_group + len(data[data[group] == -1]))\n",
        "\n",
        "  return data"
      ],
      "metadata": {
        "id": "AtgaCsiU-9DM"
      },
      "id": "AtgaCsiU-9DM",
      "execution_count": 353,
      "outputs": []
    },
    {
      "cell_type": "markdown",
      "source": [
        "*   RWA корректный\n",
        "*   Разбиение на группы соответствует условиям\n",
        "\n"
      ],
      "metadata": {
        "id": "V915ZDcS8GAJ"
      },
      "id": "V915ZDcS8GAJ"
    },
    {
      "cell_type": "code",
      "source": [
        "diff_ungroupped(df_ex_new, group=\"label\")"
      ],
      "metadata": {
        "colab": {
          "base_uri": "https://localhost:8080/",
          "height": 0
        },
        "id": "Mu0j4WcNGqs7",
        "outputId": "ecf11ef0-0943-45f9-d659-3bffeda9e345"
      },
      "id": "Mu0j4WcNGqs7",
      "execution_count": 354,
      "outputs": [
        {
          "output_type": "execute_result",
          "data": {
            "text/plain": [
              "    index        asset   liability    mat_date  days_mat    rate  group  label\n",
              "0       9   50000000.0         0.0  07.06.2018        77  0.9340    5.0      2\n",
              "1       8          0.0  50000000.0  28.04.2018        37  0.9745    4.0      3\n",
              "2      13  111000000.0         0.0  27.04.2018        36  1.7603    2.0      0\n",
              "3      12  121700000.0         0.0  27.04.2018        36  1.7603    2.0      0\n",
              "4      14          0.0  55600000.0  30.04.2018        39  1.7669    2.0      0\n",
              "5       2  550000000.0         0.0  07.05.2018        46  1.7935    2.0      0\n",
              "6      11          0.0  24500000.0  09.05.2018        48  1.7999    2.0      0\n",
              "7      15          0.0  22000000.0  09.05.2018        48  1.7999    2.0      0\n",
              "8      16          0.0  10000000.0  10.05.2018        49  1.8105    2.0      0\n",
              "9      17   11100000.0         0.0  16.05.2018        55  1.8500    2.0      0\n",
              "10     18          0.0   1100000.0  17.05.2018        56  1.8725    2.0      0\n",
              "11     19    8000000.0         0.0  17.05.2018        56  1.8849    2.0      0\n",
              "12     10          0.0  11300000.0  05.06.2018        75  2.0246    1.0      1\n",
              "13      0          0.0  33000000.0  04.06.2018        74  2.0246    1.0      1\n",
              "14      3          0.0   5000000.0  11.06.2018        81  2.0714    1.0      1\n",
              "15      1  100000000.0         0.0  11.06.2018        81  2.0714    1.0      1\n",
              "16      4          0.0   5000000.0  11.06.2018        81  2.0714    1.0      1\n",
              "17      6          0.0   8200000.0  14.06.2018        84  2.1069    1.0      1\n",
              "18      5    6100000.0         0.0  14.06.2018        84  2.1069    1.0      1\n",
              "19      7   14400000.0         0.0  18.06.2018        88  2.1775    3.0      4"
            ],
            "text/html": [
              "\n",
              "  <div id=\"df-4193d403-9850-4860-8ade-4efb2887e1c1\" class=\"colab-df-container\">\n",
              "    <div>\n",
              "<style scoped>\n",
              "    .dataframe tbody tr th:only-of-type {\n",
              "        vertical-align: middle;\n",
              "    }\n",
              "\n",
              "    .dataframe tbody tr th {\n",
              "        vertical-align: top;\n",
              "    }\n",
              "\n",
              "    .dataframe thead th {\n",
              "        text-align: right;\n",
              "    }\n",
              "</style>\n",
              "<table border=\"1\" class=\"dataframe\">\n",
              "  <thead>\n",
              "    <tr style=\"text-align: right;\">\n",
              "      <th></th>\n",
              "      <th>index</th>\n",
              "      <th>asset</th>\n",
              "      <th>liability</th>\n",
              "      <th>mat_date</th>\n",
              "      <th>days_mat</th>\n",
              "      <th>rate</th>\n",
              "      <th>group</th>\n",
              "      <th>label</th>\n",
              "    </tr>\n",
              "  </thead>\n",
              "  <tbody>\n",
              "    <tr>\n",
              "      <th>0</th>\n",
              "      <td>9</td>\n",
              "      <td>50000000.0</td>\n",
              "      <td>0.0</td>\n",
              "      <td>07.06.2018</td>\n",
              "      <td>77</td>\n",
              "      <td>0.9340</td>\n",
              "      <td>5.0</td>\n",
              "      <td>2</td>\n",
              "    </tr>\n",
              "    <tr>\n",
              "      <th>1</th>\n",
              "      <td>8</td>\n",
              "      <td>0.0</td>\n",
              "      <td>50000000.0</td>\n",
              "      <td>28.04.2018</td>\n",
              "      <td>37</td>\n",
              "      <td>0.9745</td>\n",
              "      <td>4.0</td>\n",
              "      <td>3</td>\n",
              "    </tr>\n",
              "    <tr>\n",
              "      <th>2</th>\n",
              "      <td>13</td>\n",
              "      <td>111000000.0</td>\n",
              "      <td>0.0</td>\n",
              "      <td>27.04.2018</td>\n",
              "      <td>36</td>\n",
              "      <td>1.7603</td>\n",
              "      <td>2.0</td>\n",
              "      <td>0</td>\n",
              "    </tr>\n",
              "    <tr>\n",
              "      <th>3</th>\n",
              "      <td>12</td>\n",
              "      <td>121700000.0</td>\n",
              "      <td>0.0</td>\n",
              "      <td>27.04.2018</td>\n",
              "      <td>36</td>\n",
              "      <td>1.7603</td>\n",
              "      <td>2.0</td>\n",
              "      <td>0</td>\n",
              "    </tr>\n",
              "    <tr>\n",
              "      <th>4</th>\n",
              "      <td>14</td>\n",
              "      <td>0.0</td>\n",
              "      <td>55600000.0</td>\n",
              "      <td>30.04.2018</td>\n",
              "      <td>39</td>\n",
              "      <td>1.7669</td>\n",
              "      <td>2.0</td>\n",
              "      <td>0</td>\n",
              "    </tr>\n",
              "    <tr>\n",
              "      <th>5</th>\n",
              "      <td>2</td>\n",
              "      <td>550000000.0</td>\n",
              "      <td>0.0</td>\n",
              "      <td>07.05.2018</td>\n",
              "      <td>46</td>\n",
              "      <td>1.7935</td>\n",
              "      <td>2.0</td>\n",
              "      <td>0</td>\n",
              "    </tr>\n",
              "    <tr>\n",
              "      <th>6</th>\n",
              "      <td>11</td>\n",
              "      <td>0.0</td>\n",
              "      <td>24500000.0</td>\n",
              "      <td>09.05.2018</td>\n",
              "      <td>48</td>\n",
              "      <td>1.7999</td>\n",
              "      <td>2.0</td>\n",
              "      <td>0</td>\n",
              "    </tr>\n",
              "    <tr>\n",
              "      <th>7</th>\n",
              "      <td>15</td>\n",
              "      <td>0.0</td>\n",
              "      <td>22000000.0</td>\n",
              "      <td>09.05.2018</td>\n",
              "      <td>48</td>\n",
              "      <td>1.7999</td>\n",
              "      <td>2.0</td>\n",
              "      <td>0</td>\n",
              "    </tr>\n",
              "    <tr>\n",
              "      <th>8</th>\n",
              "      <td>16</td>\n",
              "      <td>0.0</td>\n",
              "      <td>10000000.0</td>\n",
              "      <td>10.05.2018</td>\n",
              "      <td>49</td>\n",
              "      <td>1.8105</td>\n",
              "      <td>2.0</td>\n",
              "      <td>0</td>\n",
              "    </tr>\n",
              "    <tr>\n",
              "      <th>9</th>\n",
              "      <td>17</td>\n",
              "      <td>11100000.0</td>\n",
              "      <td>0.0</td>\n",
              "      <td>16.05.2018</td>\n",
              "      <td>55</td>\n",
              "      <td>1.8500</td>\n",
              "      <td>2.0</td>\n",
              "      <td>0</td>\n",
              "    </tr>\n",
              "    <tr>\n",
              "      <th>10</th>\n",
              "      <td>18</td>\n",
              "      <td>0.0</td>\n",
              "      <td>1100000.0</td>\n",
              "      <td>17.05.2018</td>\n",
              "      <td>56</td>\n",
              "      <td>1.8725</td>\n",
              "      <td>2.0</td>\n",
              "      <td>0</td>\n",
              "    </tr>\n",
              "    <tr>\n",
              "      <th>11</th>\n",
              "      <td>19</td>\n",
              "      <td>8000000.0</td>\n",
              "      <td>0.0</td>\n",
              "      <td>17.05.2018</td>\n",
              "      <td>56</td>\n",
              "      <td>1.8849</td>\n",
              "      <td>2.0</td>\n",
              "      <td>0</td>\n",
              "    </tr>\n",
              "    <tr>\n",
              "      <th>12</th>\n",
              "      <td>10</td>\n",
              "      <td>0.0</td>\n",
              "      <td>11300000.0</td>\n",
              "      <td>05.06.2018</td>\n",
              "      <td>75</td>\n",
              "      <td>2.0246</td>\n",
              "      <td>1.0</td>\n",
              "      <td>1</td>\n",
              "    </tr>\n",
              "    <tr>\n",
              "      <th>13</th>\n",
              "      <td>0</td>\n",
              "      <td>0.0</td>\n",
              "      <td>33000000.0</td>\n",
              "      <td>04.06.2018</td>\n",
              "      <td>74</td>\n",
              "      <td>2.0246</td>\n",
              "      <td>1.0</td>\n",
              "      <td>1</td>\n",
              "    </tr>\n",
              "    <tr>\n",
              "      <th>14</th>\n",
              "      <td>3</td>\n",
              "      <td>0.0</td>\n",
              "      <td>5000000.0</td>\n",
              "      <td>11.06.2018</td>\n",
              "      <td>81</td>\n",
              "      <td>2.0714</td>\n",
              "      <td>1.0</td>\n",
              "      <td>1</td>\n",
              "    </tr>\n",
              "    <tr>\n",
              "      <th>15</th>\n",
              "      <td>1</td>\n",
              "      <td>100000000.0</td>\n",
              "      <td>0.0</td>\n",
              "      <td>11.06.2018</td>\n",
              "      <td>81</td>\n",
              "      <td>2.0714</td>\n",
              "      <td>1.0</td>\n",
              "      <td>1</td>\n",
              "    </tr>\n",
              "    <tr>\n",
              "      <th>16</th>\n",
              "      <td>4</td>\n",
              "      <td>0.0</td>\n",
              "      <td>5000000.0</td>\n",
              "      <td>11.06.2018</td>\n",
              "      <td>81</td>\n",
              "      <td>2.0714</td>\n",
              "      <td>1.0</td>\n",
              "      <td>1</td>\n",
              "    </tr>\n",
              "    <tr>\n",
              "      <th>17</th>\n",
              "      <td>6</td>\n",
              "      <td>0.0</td>\n",
              "      <td>8200000.0</td>\n",
              "      <td>14.06.2018</td>\n",
              "      <td>84</td>\n",
              "      <td>2.1069</td>\n",
              "      <td>1.0</td>\n",
              "      <td>1</td>\n",
              "    </tr>\n",
              "    <tr>\n",
              "      <th>18</th>\n",
              "      <td>5</td>\n",
              "      <td>6100000.0</td>\n",
              "      <td>0.0</td>\n",
              "      <td>14.06.2018</td>\n",
              "      <td>84</td>\n",
              "      <td>2.1069</td>\n",
              "      <td>1.0</td>\n",
              "      <td>1</td>\n",
              "    </tr>\n",
              "    <tr>\n",
              "      <th>19</th>\n",
              "      <td>7</td>\n",
              "      <td>14400000.0</td>\n",
              "      <td>0.0</td>\n",
              "      <td>18.06.2018</td>\n",
              "      <td>88</td>\n",
              "      <td>2.1775</td>\n",
              "      <td>3.0</td>\n",
              "      <td>4</td>\n",
              "    </tr>\n",
              "  </tbody>\n",
              "</table>\n",
              "</div>\n",
              "    <div class=\"colab-df-buttons\">\n",
              "\n",
              "  <div class=\"colab-df-container\">\n",
              "    <button class=\"colab-df-convert\" onclick=\"convertToInteractive('df-4193d403-9850-4860-8ade-4efb2887e1c1')\"\n",
              "            title=\"Convert this dataframe to an interactive table.\"\n",
              "            style=\"display:none;\">\n",
              "\n",
              "  <svg xmlns=\"http://www.w3.org/2000/svg\" height=\"24px\" viewBox=\"0 -960 960 960\">\n",
              "    <path d=\"M120-120v-720h720v720H120Zm60-500h600v-160H180v160Zm220 220h160v-160H400v160Zm0 220h160v-160H400v160ZM180-400h160v-160H180v160Zm440 0h160v-160H620v160ZM180-180h160v-160H180v160Zm440 0h160v-160H620v160Z\"/>\n",
              "  </svg>\n",
              "    </button>\n",
              "\n",
              "  <style>\n",
              "    .colab-df-container {\n",
              "      display:flex;\n",
              "      gap: 12px;\n",
              "    }\n",
              "\n",
              "    .colab-df-convert {\n",
              "      background-color: #E8F0FE;\n",
              "      border: none;\n",
              "      border-radius: 50%;\n",
              "      cursor: pointer;\n",
              "      display: none;\n",
              "      fill: #1967D2;\n",
              "      height: 32px;\n",
              "      padding: 0 0 0 0;\n",
              "      width: 32px;\n",
              "    }\n",
              "\n",
              "    .colab-df-convert:hover {\n",
              "      background-color: #E2EBFA;\n",
              "      box-shadow: 0px 1px 2px rgba(60, 64, 67, 0.3), 0px 1px 3px 1px rgba(60, 64, 67, 0.15);\n",
              "      fill: #174EA6;\n",
              "    }\n",
              "\n",
              "    .colab-df-buttons div {\n",
              "      margin-bottom: 4px;\n",
              "    }\n",
              "\n",
              "    [theme=dark] .colab-df-convert {\n",
              "      background-color: #3B4455;\n",
              "      fill: #D2E3FC;\n",
              "    }\n",
              "\n",
              "    [theme=dark] .colab-df-convert:hover {\n",
              "      background-color: #434B5C;\n",
              "      box-shadow: 0px 1px 3px 1px rgba(0, 0, 0, 0.15);\n",
              "      filter: drop-shadow(0px 1px 2px rgba(0, 0, 0, 0.3));\n",
              "      fill: #FFFFFF;\n",
              "    }\n",
              "  </style>\n",
              "\n",
              "    <script>\n",
              "      const buttonEl =\n",
              "        document.querySelector('#df-4193d403-9850-4860-8ade-4efb2887e1c1 button.colab-df-convert');\n",
              "      buttonEl.style.display =\n",
              "        google.colab.kernel.accessAllowed ? 'block' : 'none';\n",
              "\n",
              "      async function convertToInteractive(key) {\n",
              "        const element = document.querySelector('#df-4193d403-9850-4860-8ade-4efb2887e1c1');\n",
              "        const dataTable =\n",
              "          await google.colab.kernel.invokeFunction('convertToInteractive',\n",
              "                                                    [key], {});\n",
              "        if (!dataTable) return;\n",
              "\n",
              "        const docLinkHtml = 'Like what you see? Visit the ' +\n",
              "          '<a target=\"_blank\" href=https://colab.research.google.com/notebooks/data_table.ipynb>data table notebook</a>'\n",
              "          + ' to learn more about interactive tables.';\n",
              "        element.innerHTML = '';\n",
              "        dataTable['output_type'] = 'display_data';\n",
              "        await google.colab.output.renderOutput(dataTable, element);\n",
              "        const docLink = document.createElement('div');\n",
              "        docLink.innerHTML = docLinkHtml;\n",
              "        element.appendChild(docLink);\n",
              "      }\n",
              "    </script>\n",
              "  </div>\n",
              "\n",
              "\n",
              "    <div id=\"df-390ed632-08b1-4857-8c41-1dc1a2f66db3\">\n",
              "      <button class=\"colab-df-quickchart\" onclick=\"quickchart('df-390ed632-08b1-4857-8c41-1dc1a2f66db3')\"\n",
              "                title=\"Suggest charts\"\n",
              "                style=\"display:none;\">\n",
              "\n",
              "<svg xmlns=\"http://www.w3.org/2000/svg\" height=\"24px\"viewBox=\"0 0 24 24\"\n",
              "     width=\"24px\">\n",
              "    <g>\n",
              "        <path d=\"M19 3H5c-1.1 0-2 .9-2 2v14c0 1.1.9 2 2 2h14c1.1 0 2-.9 2-2V5c0-1.1-.9-2-2-2zM9 17H7v-7h2v7zm4 0h-2V7h2v10zm4 0h-2v-4h2v4z\"/>\n",
              "    </g>\n",
              "</svg>\n",
              "      </button>\n",
              "\n",
              "<style>\n",
              "  .colab-df-quickchart {\n",
              "      --bg-color: #E8F0FE;\n",
              "      --fill-color: #1967D2;\n",
              "      --hover-bg-color: #E2EBFA;\n",
              "      --hover-fill-color: #174EA6;\n",
              "      --disabled-fill-color: #AAA;\n",
              "      --disabled-bg-color: #DDD;\n",
              "  }\n",
              "\n",
              "  [theme=dark] .colab-df-quickchart {\n",
              "      --bg-color: #3B4455;\n",
              "      --fill-color: #D2E3FC;\n",
              "      --hover-bg-color: #434B5C;\n",
              "      --hover-fill-color: #FFFFFF;\n",
              "      --disabled-bg-color: #3B4455;\n",
              "      --disabled-fill-color: #666;\n",
              "  }\n",
              "\n",
              "  .colab-df-quickchart {\n",
              "    background-color: var(--bg-color);\n",
              "    border: none;\n",
              "    border-radius: 50%;\n",
              "    cursor: pointer;\n",
              "    display: none;\n",
              "    fill: var(--fill-color);\n",
              "    height: 32px;\n",
              "    padding: 0;\n",
              "    width: 32px;\n",
              "  }\n",
              "\n",
              "  .colab-df-quickchart:hover {\n",
              "    background-color: var(--hover-bg-color);\n",
              "    box-shadow: 0 1px 2px rgba(60, 64, 67, 0.3), 0 1px 3px 1px rgba(60, 64, 67, 0.15);\n",
              "    fill: var(--button-hover-fill-color);\n",
              "  }\n",
              "\n",
              "  .colab-df-quickchart-complete:disabled,\n",
              "  .colab-df-quickchart-complete:disabled:hover {\n",
              "    background-color: var(--disabled-bg-color);\n",
              "    fill: var(--disabled-fill-color);\n",
              "    box-shadow: none;\n",
              "  }\n",
              "\n",
              "  .colab-df-spinner {\n",
              "    border: 2px solid var(--fill-color);\n",
              "    border-color: transparent;\n",
              "    border-bottom-color: var(--fill-color);\n",
              "    animation:\n",
              "      spin 1s steps(1) infinite;\n",
              "  }\n",
              "\n",
              "  @keyframes spin {\n",
              "    0% {\n",
              "      border-color: transparent;\n",
              "      border-bottom-color: var(--fill-color);\n",
              "      border-left-color: var(--fill-color);\n",
              "    }\n",
              "    20% {\n",
              "      border-color: transparent;\n",
              "      border-left-color: var(--fill-color);\n",
              "      border-top-color: var(--fill-color);\n",
              "    }\n",
              "    30% {\n",
              "      border-color: transparent;\n",
              "      border-left-color: var(--fill-color);\n",
              "      border-top-color: var(--fill-color);\n",
              "      border-right-color: var(--fill-color);\n",
              "    }\n",
              "    40% {\n",
              "      border-color: transparent;\n",
              "      border-right-color: var(--fill-color);\n",
              "      border-top-color: var(--fill-color);\n",
              "    }\n",
              "    60% {\n",
              "      border-color: transparent;\n",
              "      border-right-color: var(--fill-color);\n",
              "    }\n",
              "    80% {\n",
              "      border-color: transparent;\n",
              "      border-right-color: var(--fill-color);\n",
              "      border-bottom-color: var(--fill-color);\n",
              "    }\n",
              "    90% {\n",
              "      border-color: transparent;\n",
              "      border-bottom-color: var(--fill-color);\n",
              "    }\n",
              "  }\n",
              "</style>\n",
              "\n",
              "      <script>\n",
              "        async function quickchart(key) {\n",
              "          const quickchartButtonEl =\n",
              "            document.querySelector('#' + key + ' button');\n",
              "          quickchartButtonEl.disabled = true;  // To prevent multiple clicks.\n",
              "          quickchartButtonEl.classList.add('colab-df-spinner');\n",
              "          try {\n",
              "            const charts = await google.colab.kernel.invokeFunction(\n",
              "                'suggestCharts', [key], {});\n",
              "          } catch (error) {\n",
              "            console.error('Error during call to suggestCharts:', error);\n",
              "          }\n",
              "          quickchartButtonEl.classList.remove('colab-df-spinner');\n",
              "          quickchartButtonEl.classList.add('colab-df-quickchart-complete');\n",
              "        }\n",
              "        (() => {\n",
              "          let quickchartButtonEl =\n",
              "            document.querySelector('#df-390ed632-08b1-4857-8c41-1dc1a2f66db3 button');\n",
              "          quickchartButtonEl.style.display =\n",
              "            google.colab.kernel.accessAllowed ? 'block' : 'none';\n",
              "        })();\n",
              "      </script>\n",
              "    </div>\n",
              "    </div>\n",
              "  </div>\n"
            ],
            "application/vnd.google.colaboratory.intrinsic+json": {
              "type": "dataframe",
              "variable_name": "df_ex_new",
              "summary": "{\n  \"name\": \"df_ex_new\",\n  \"rows\": 20,\n  \"fields\": [\n    {\n      \"column\": \"index\",\n      \"properties\": {\n        \"dtype\": \"number\",\n        \"std\": 5,\n        \"min\": 0,\n        \"max\": 19,\n        \"num_unique_values\": 20,\n        \"samples\": [\n          9,\n          6,\n          1\n        ],\n        \"semantic_type\": \"\",\n        \"description\": \"\"\n      }\n    },\n    {\n      \"column\": \"asset\",\n      \"properties\": {\n        \"dtype\": \"number\",\n        \"std\": 124666989.1519424,\n        \"min\": 0.0,\n        \"max\": 550000000.0,\n        \"num_unique_values\": 10,\n        \"samples\": [\n          6100000.0,\n          0.0,\n          11100000.0\n        ],\n        \"semantic_type\": \"\",\n        \"description\": \"\"\n      }\n    },\n    {\n      \"column\": \"liability\",\n      \"properties\": {\n        \"dtype\": \"number\",\n        \"std\": 17112207.86148698,\n        \"min\": 0.0,\n        \"max\": 55600000.0,\n        \"num_unique_values\": 11,\n        \"samples\": [\n          10000000.0,\n          0.0,\n          5000000.0\n        ],\n        \"semantic_type\": \"\",\n        \"description\": \"\"\n      }\n    },\n    {\n      \"column\": \"mat_date\",\n      \"properties\": {\n        \"dtype\": \"string\",\n        \"num_unique_values\": 14,\n        \"samples\": [\n          \"05.06.2018\",\n          \"11.06.2018\",\n          \"07.06.2018\"\n        ],\n        \"semantic_type\": \"\",\n        \"description\": \"\"\n      }\n    },\n    {\n      \"column\": \"days_mat\",\n      \"properties\": {\n        \"dtype\": \"number\",\n        \"std\": 18,\n        \"min\": 36,\n        \"max\": 88,\n        \"num_unique_values\": 14,\n        \"samples\": [\n          75,\n          81,\n          77\n        ],\n        \"semantic_type\": \"\",\n        \"description\": \"\"\n      }\n    },\n    {\n      \"column\": \"rate\",\n      \"properties\": {\n        \"dtype\": \"number\",\n        \"std\": 0.3309961765958221,\n        \"min\": 0.934,\n        \"max\": 2.1775,\n        \"num_unique_values\": 14,\n        \"samples\": [\n          1.8849,\n          2.0714,\n          0.934\n        ],\n        \"semantic_type\": \"\",\n        \"description\": \"\"\n      }\n    },\n    {\n      \"column\": \"group\",\n      \"properties\": {\n        \"dtype\": \"number\",\n        \"std\": 1.0500626547722607,\n        \"min\": 1.0,\n        \"max\": 5.0,\n        \"num_unique_values\": 5,\n        \"samples\": [\n          4.0,\n          3.0,\n          2.0\n        ],\n        \"semantic_type\": \"\",\n        \"description\": \"\"\n      }\n    },\n    {\n      \"column\": \"label\",\n      \"properties\": {\n        \"dtype\": \"number\",\n        \"std\": 1,\n        \"min\": 0,\n        \"max\": 4,\n        \"num_unique_values\": 5,\n        \"samples\": [\n          3,\n          4,\n          0\n        ],\n        \"semantic_type\": \"\",\n        \"description\": \"\"\n      }\n    }\n  ]\n}"
            }
          },
          "metadata": {},
          "execution_count": 354
        }
      ]
    },
    {
      "cell_type": "markdown",
      "source": [
        "### Применяем к основным данным"
      ],
      "metadata": {
        "id": "hiSmYU6w_-J-"
      },
      "id": "hiSmYU6w_-J-"
    },
    {
      "cell_type": "code",
      "source": [
        "calculate_min_rwa(df, group=\"answ\")[0]"
      ],
      "metadata": {
        "colab": {
          "base_uri": "https://localhost:8080/"
        },
        "id": "T45EK1AVBXq2",
        "outputId": "915d5ba5-a1b2-4eb0-85cd-cb50d8814cb8"
      },
      "id": "T45EK1AVBXq2",
      "execution_count": 355,
      "outputs": [
        {
          "output_type": "execute_result",
          "data": {
            "text/plain": [
              "1302189239.803999"
            ]
          },
          "metadata": {},
          "execution_count": 355
        }
      ]
    },
    {
      "cell_type": "code",
      "source": [
        "netting_checker(calculate_min_rwa(df, group=\"answ\")[1], group=\"answ\")"
      ],
      "metadata": {
        "colab": {
          "base_uri": "https://localhost:8080/"
        },
        "id": "zlkhFwX3Baih",
        "outputId": "c9c6e750-3f37-40f5-f7e6-f0a84e6b6049"
      },
      "id": "zlkhFwX3Baih",
      "execution_count": 356,
      "outputs": [
        {
          "output_type": "stream",
          "name": "stdout",
          "text": [
            "group 0: 2, days_range=6, rate_range=0.0555 \n",
            "group -1: 6, days_range=44, rate_range=8.191 not groupped\n",
            "group 1: 4, days_range=28, rate_range=0.0815 \n",
            "group 2: 4, days_range=19, rate_range=0.147 \n",
            "group 3: 3, days_range=11, rate_range=0.0675 \n",
            "group 4: 5, days_range=20, rate_range=0.0559 \n",
            "group 5: 9, days_range=7, rate_range=0.0545 \n",
            "group 6: 1104, days_range=28, rate_range=0.1436 \n",
            "group 7: 541, days_range=23, rate_range=0.1479 \n",
            "group 8: 289, days_range=30, rate_range=0.0887 \n",
            "group 9: 125, days_range=1, rate_range=0.0325 \n",
            "group 10: 2, days_range=4, rate_range=0.0119 \n",
            "group 11: 55, days_range=7, rate_range=0.1357 \n",
            "group 12: 3, days_range=0, rate_range=0.0048 \n",
            "group 13: 5, days_range=27, rate_range=0.1 \n",
            "group 14: 3, days_range=3, rate_range=0.0 \n",
            "group 15: 4, days_range=29, rate_range=0.0 \n",
            "group 16: 2, days_range=0, rate_range=0.0 \n",
            "group 17: 2, days_range=0, rate_range=0.0 \n",
            "group 18: 2, days_range=15, rate_range=0.123 \n",
            "group 19: 3, days_range=3, rate_range=0.0 \n",
            "group 20: 2, days_range=0, rate_range=0.0 \n"
          ]
        }
      ]
    },
    {
      "cell_type": "code",
      "source": [
        "df_res = diff_ungroupped(calculate_min_rwa(df, group=\"answ\")[1], group=\"answ\")\n",
        "df_res = df_res.sort_values(\"index\").reset_index(drop=True).drop(\"index\", axis=1) #приводим все в исходный вид"
      ],
      "metadata": {
        "id": "7q53InNeB7J5"
      },
      "id": "7q53InNeB7J5",
      "execution_count": 357,
      "outputs": []
    },
    {
      "cell_type": "code",
      "source": [
        "scatter_of_groups(df_res, group=\"answ\")"
      ],
      "metadata": {
        "id": "zSL47TfkBsCg",
        "collapsed": true
      },
      "id": "zSL47TfkBsCg",
      "execution_count": null,
      "outputs": []
    },
    {
      "cell_type": "markdown",
      "source": [
        "##Сохраняем ответ"
      ],
      "metadata": {
        "id": "Zf_NU8hyQUhT"
      },
      "id": "Zf_NU8hyQUhT"
    },
    {
      "cell_type": "code",
      "source": [
        "#возвращаем имена переменных и сохраняем в csv файл\n",
        "df_final = df_res.rename(columns={\"asset\": \"Кредит (актив)\",\n",
        "                        \"liability\": \"Вклад (пассив)\",\n",
        "                        \"mat_date\": \"Дата погашения\",\n",
        "                        \"days_mat\": \"Срок погашения, дней\",\n",
        "                        \"rate\": \"Ставка, %\",\n",
        "                        \"answ\": \"[ОТВЕТ] Номер группы\",\n",
        "                        \"group\": \"Пример группировки (для первых 20 сделок)\"\n",
        "                        })\n",
        "df_final.to_csv(\"Банк_3мес_данные_ответ.csv\", sep=\";\")"
      ],
      "metadata": {
        "id": "ZOllBJ9s8rvv"
      },
      "id": "ZOllBJ9s8rvv",
      "execution_count": 360,
      "outputs": []
    }
  ],
  "metadata": {
    "kernelspec": {
      "display_name": "Python 3",
      "language": "python",
      "name": "python3"
    },
    "language_info": {
      "codemirror_mode": {
        "name": "ipython",
        "version": 3
      },
      "file_extension": ".py",
      "mimetype": "text/x-python",
      "name": "python",
      "nbconvert_exporter": "python",
      "pygments_lexer": "ipython3",
      "version": "3.11.9"
    },
    "colab": {
      "provenance": [],
      "collapsed_sections": [
        "52547de8",
        "b5871b14",
        "UAZKJbQl7iex",
        "Zf_NU8hyQUhT"
      ]
    }
  },
  "nbformat": 4,
  "nbformat_minor": 5
}